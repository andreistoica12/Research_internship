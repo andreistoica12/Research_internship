{
 "cells": [
  {
   "attachments": {},
   "cell_type": "markdown",
   "metadata": {},
   "source": [
    "Delete all variables in the current environment (if you have already run some cells) - clean state"
   ]
  },
  {
   "cell_type": "code",
   "execution_count": 1,
   "metadata": {},
   "outputs": [],
   "source": [
    "%reset"
   ]
  },
  {
   "attachments": {},
   "cell_type": "markdown",
   "metadata": {},
   "source": [
    "Import all necessary packages"
   ]
  },
  {
   "cell_type": "code",
   "execution_count": 2,
   "metadata": {},
   "outputs": [],
   "source": [
    "import pandas as pd\n",
    "import os\n",
    "import networkx as nx\n",
    "from matplotlib import pyplot as plt\n",
    "import shutil"
   ]
  },
  {
   "attachments": {},
   "cell_type": "markdown",
   "metadata": {},
   "source": [
    "Replace with the path to the root folder of the project"
   ]
  },
  {
   "cell_type": "code",
   "execution_count": 3,
   "metadata": {},
   "outputs": [],
   "source": [
    "rootdir_path = '/home/andreistoica12/research-internship'"
   ]
  },
  {
   "attachments": {},
   "cell_type": "markdown",
   "metadata": {},
   "source": [
    "Replace with the path to the folder where we store the dataset"
   ]
  },
  {
   "cell_type": "code",
   "execution_count": 4,
   "metadata": {},
   "outputs": [],
   "source": [
    "data_path = '/home/andreistoica12/research-internship/data/covaxxy-csv'"
   ]
  },
  {
   "attachments": {},
   "cell_type": "markdown",
   "metadata": {},
   "source": [
    "Create 2 subfolders to store important files and graphs, respectively. If they already existed (from previous runnings of the project), delete the folders and their contents and create empty folders to store the current files and graphs, relevant to the current state of the project."
   ]
  },
  {
   "cell_type": "code",
   "execution_count": 5,
   "metadata": {},
   "outputs": [],
   "source": [
    "files_path = os.path.join(rootdir_path, 'files')\n",
    "if os.path.exists(files_path):\n",
    "   shutil.rmtree(files_path, ignore_errors=False, onerror=None)\n",
    "os.makedirs(files_path)\n",
    "\n",
    "graphs_path = os.path.join(rootdir_path, 'graphs')\n",
    "if os.path.exists(graphs_path):\n",
    "   shutil.rmtree(graphs_path, ignore_errors=False, onerror=None)\n",
    "os.makedirs(graphs_path)"
   ]
  },
  {
   "cell_type": "code",
   "execution_count": 6,
   "metadata": {},
   "outputs": [
    {
     "data": {
      "text/plain": [
       "['tweet_ids--2021-03-02.csv',\n",
       " 'tweet_ids--2021-03-03.csv',\n",
       " 'tweet_ids--2021-03-05.csv',\n",
       " 'tweet_ids--2021-03-04.csv',\n",
       " 'tweet_ids--2021-03-01.csv']"
      ]
     },
     "execution_count": 6,
     "metadata": {},
     "output_type": "execute_result"
    }
   ],
   "source": [
    "os.listdir(data_path)"
   ]
  },
  {
   "cell_type": "code",
   "execution_count": 9,
   "metadata": {},
   "outputs": [],
   "source": [
    "first_batch_path = os.path.join(data_path, os.listdir(data_path)[0])"
   ]
  },
  {
   "cell_type": "code",
   "execution_count": 11,
   "metadata": {},
   "outputs": [],
   "source": [
    "first_batch = pd.read_csv(first_batch_path)"
   ]
  },
  {
   "cell_type": "code",
   "execution_count": 12,
   "metadata": {},
   "outputs": [
    {
     "data": {
      "text/html": [
       "<div>\n",
       "<style scoped>\n",
       "    .dataframe tbody tr th:only-of-type {\n",
       "        vertical-align: middle;\n",
       "    }\n",
       "\n",
       "    .dataframe tbody tr th {\n",
       "        vertical-align: top;\n",
       "    }\n",
       "\n",
       "    .dataframe thead th {\n",
       "        text-align: right;\n",
       "    }\n",
       "</style>\n",
       "<table border=\"1\" class=\"dataframe\">\n",
       "  <thead>\n",
       "    <tr style=\"text-align: right;\">\n",
       "      <th></th>\n",
       "      <th>Unnamed: 0</th>\n",
       "      <th>created_at</th>\n",
       "      <th>tweet_id</th>\n",
       "      <th>author_id</th>\n",
       "      <th>text</th>\n",
       "      <th>followers_count</th>\n",
       "      <th>following_count</th>\n",
       "    </tr>\n",
       "  </thead>\n",
       "  <tbody>\n",
       "    <tr>\n",
       "      <th>0</th>\n",
       "      <td>0</td>\n",
       "      <td>2021-03-01T23:59:55.000Z</td>\n",
       "      <td>1366538722066395138</td>\n",
       "      <td>201963182</td>\n",
       "      <td>RT @briantylercohen: So Trump got the vaccine ...</td>\n",
       "      <td>865</td>\n",
       "      <td>2126</td>\n",
       "    </tr>\n",
       "    <tr>\n",
       "      <th>1</th>\n",
       "      <td>1</td>\n",
       "      <td>2021-03-01T23:59:55.000Z</td>\n",
       "      <td>1366538722955563008</td>\n",
       "      <td>1301587100509241344</td>\n",
       "      <td>RT @Cal_OES: Protecting Our Communities from #...</td>\n",
       "      <td>0</td>\n",
       "      <td>4</td>\n",
       "    </tr>\n",
       "    <tr>\n",
       "      <th>2</th>\n",
       "      <td>2</td>\n",
       "      <td>2021-03-01T23:59:55.000Z</td>\n",
       "      <td>1366538724092170246</td>\n",
       "      <td>330378192</td>\n",
       "      <td>RT @drmt: @StephenKing Congrats @StephenKing !...</td>\n",
       "      <td>20884</td>\n",
       "      <td>711</td>\n",
       "    </tr>\n",
       "    <tr>\n",
       "      <th>3</th>\n",
       "      <td>3</td>\n",
       "      <td>2021-03-01T23:59:55.000Z</td>\n",
       "      <td>1366538723819741192</td>\n",
       "      <td>198019557</td>\n",
       "      <td>The fucking gall of these cretins. They're con...</td>\n",
       "      <td>121</td>\n",
       "      <td>520</td>\n",
       "    </tr>\n",
       "    <tr>\n",
       "      <th>4</th>\n",
       "      <td>4</td>\n",
       "      <td>2021-03-01T23:59:55.000Z</td>\n",
       "      <td>1366538724255948802</td>\n",
       "      <td>2790227032</td>\n",
       "      <td>RT @briantylercohen: So Trump got the vaccine ...</td>\n",
       "      <td>1592</td>\n",
       "      <td>5009</td>\n",
       "    </tr>\n",
       "    <tr>\n",
       "      <th>...</th>\n",
       "      <td>...</td>\n",
       "      <td>...</td>\n",
       "      <td>...</td>\n",
       "      <td>...</td>\n",
       "      <td>...</td>\n",
       "      <td>...</td>\n",
       "      <td>...</td>\n",
       "    </tr>\n",
       "    <tr>\n",
       "      <th>690235</th>\n",
       "      <td>690235</td>\n",
       "      <td>2021-03-02T03:03:09.000Z</td>\n",
       "      <td>1366584834034987017</td>\n",
       "      <td>90485501</td>\n",
       "      <td>My son Gavi is raising money for Chai Lifeline...</td>\n",
       "      <td>146</td>\n",
       "      <td>588</td>\n",
       "    </tr>\n",
       "    <tr>\n",
       "      <th>690236</th>\n",
       "      <td>690236</td>\n",
       "      <td>2021-03-02T03:03:09.000Z</td>\n",
       "      <td>1366584835284860929</td>\n",
       "      <td>2453661493</td>\n",
       "      <td>RT @Matthew_4_Trump: The people who are agains...</td>\n",
       "      <td>3419</td>\n",
       "      <td>5094</td>\n",
       "    </tr>\n",
       "    <tr>\n",
       "      <th>690237</th>\n",
       "      <td>690237</td>\n",
       "      <td>2021-03-02T03:03:09.000Z</td>\n",
       "      <td>1366584836010475520</td>\n",
       "      <td>15208773</td>\n",
       "      <td>@FlyinSparxx @MollyJongFast agree. And I belie...</td>\n",
       "      <td>2375</td>\n",
       "      <td>5001</td>\n",
       "    </tr>\n",
       "    <tr>\n",
       "      <th>690238</th>\n",
       "      <td>690238</td>\n",
       "      <td>2021-03-02T03:03:09.000Z</td>\n",
       "      <td>1366584836404649991</td>\n",
       "      <td>510244786</td>\n",
       "      <td>RT @rishibagree: 3 News that turn out to be #F...</td>\n",
       "      <td>529</td>\n",
       "      <td>235</td>\n",
       "    </tr>\n",
       "    <tr>\n",
       "      <th>690239</th>\n",
       "      <td>690239</td>\n",
       "      <td>2021-03-02T03:03:09.000Z</td>\n",
       "      <td>1366584837218447360</td>\n",
       "      <td>604120300</td>\n",
       "      <td>RT @donwinslow: I PROMISE you this...\\n\\nTrump...</td>\n",
       "      <td>430</td>\n",
       "      <td>831</td>\n",
       "    </tr>\n",
       "  </tbody>\n",
       "</table>\n",
       "<p>690240 rows × 7 columns</p>\n",
       "</div>"
      ],
      "text/plain": [
       "        Unnamed: 0                created_at             tweet_id  \\\n",
       "0                0  2021-03-01T23:59:55.000Z  1366538722066395138   \n",
       "1                1  2021-03-01T23:59:55.000Z  1366538722955563008   \n",
       "2                2  2021-03-01T23:59:55.000Z  1366538724092170246   \n",
       "3                3  2021-03-01T23:59:55.000Z  1366538723819741192   \n",
       "4                4  2021-03-01T23:59:55.000Z  1366538724255948802   \n",
       "...            ...                       ...                  ...   \n",
       "690235      690235  2021-03-02T03:03:09.000Z  1366584834034987017   \n",
       "690236      690236  2021-03-02T03:03:09.000Z  1366584835284860929   \n",
       "690237      690237  2021-03-02T03:03:09.000Z  1366584836010475520   \n",
       "690238      690238  2021-03-02T03:03:09.000Z  1366584836404649991   \n",
       "690239      690239  2021-03-02T03:03:09.000Z  1366584837218447360   \n",
       "\n",
       "                  author_id  \\\n",
       "0                 201963182   \n",
       "1       1301587100509241344   \n",
       "2                 330378192   \n",
       "3                 198019557   \n",
       "4                2790227032   \n",
       "...                     ...   \n",
       "690235             90485501   \n",
       "690236           2453661493   \n",
       "690237             15208773   \n",
       "690238            510244786   \n",
       "690239            604120300   \n",
       "\n",
       "                                                     text  followers_count  \\\n",
       "0       RT @briantylercohen: So Trump got the vaccine ...              865   \n",
       "1       RT @Cal_OES: Protecting Our Communities from #...                0   \n",
       "2       RT @drmt: @StephenKing Congrats @StephenKing !...            20884   \n",
       "3       The fucking gall of these cretins. They're con...              121   \n",
       "4       RT @briantylercohen: So Trump got the vaccine ...             1592   \n",
       "...                                                   ...              ...   \n",
       "690235  My son Gavi is raising money for Chai Lifeline...              146   \n",
       "690236  RT @Matthew_4_Trump: The people who are agains...             3419   \n",
       "690237  @FlyinSparxx @MollyJongFast agree. And I belie...             2375   \n",
       "690238  RT @rishibagree: 3 News that turn out to be #F...              529   \n",
       "690239  RT @donwinslow: I PROMISE you this...\\n\\nTrump...              430   \n",
       "\n",
       "        following_count  \n",
       "0                  2126  \n",
       "1                     4  \n",
       "2                   711  \n",
       "3                   520  \n",
       "4                  5009  \n",
       "...                 ...  \n",
       "690235              588  \n",
       "690236             5094  \n",
       "690237             5001  \n",
       "690238              235  \n",
       "690239              831  \n",
       "\n",
       "[690240 rows x 7 columns]"
      ]
     },
     "execution_count": 12,
     "metadata": {},
     "output_type": "execute_result"
    }
   ],
   "source": [
    "first_batch"
   ]
  },
  {
   "cell_type": "code",
   "execution_count": 13,
   "metadata": {},
   "outputs": [
    {
     "data": {
      "text/plain": [
       "pandas.core.series.Series"
      ]
     },
     "execution_count": 13,
     "metadata": {},
     "output_type": "execute_result"
    }
   ],
   "source": [
    "type(first_batch['author_id'])"
   ]
  },
  {
   "cell_type": "code",
   "execution_count": 14,
   "metadata": {},
   "outputs": [
    {
     "data": {
      "text/plain": [
       "690240"
      ]
     },
     "execution_count": 14,
     "metadata": {},
     "output_type": "execute_result"
    }
   ],
   "source": [
    "first_batch['author_id'].size"
   ]
  },
  {
   "cell_type": "code",
   "execution_count": 17,
   "metadata": {},
   "outputs": [],
   "source": [
    "first = first_batch['author_id']"
   ]
  },
  {
   "cell_type": "code",
   "execution_count": 19,
   "metadata": {},
   "outputs": [],
   "source": [
    "first.drop_duplicates(inplace=True)"
   ]
  },
  {
   "cell_type": "code",
   "execution_count": 20,
   "metadata": {},
   "outputs": [
    {
     "data": {
      "text/plain": [
       "397428"
      ]
     },
     "execution_count": 20,
     "metadata": {},
     "output_type": "execute_result"
    }
   ],
   "source": [
    "first.size"
   ]
  },
  {
   "cell_type": "code",
   "execution_count": null,
   "metadata": {},
   "outputs": [],
   "source": []
  }
 ],
 "metadata": {
  "kernelspec": {
   "display_name": "venv",
   "language": "python",
   "name": "python3"
  },
  "language_info": {
   "codemirror_mode": {
    "name": "ipython",
    "version": 3
   },
   "file_extension": ".py",
   "mimetype": "text/x-python",
   "name": "python",
   "nbconvert_exporter": "python",
   "pygments_lexer": "ipython3",
   "version": "3.10.6"
  },
  "orig_nbformat": 4,
  "vscode": {
   "interpreter": {
    "hash": "243101c165aceacaf115b49fc146265224cf91574f24df3021157e0d2dabdb2b"
   }
  }
 },
 "nbformat": 4,
 "nbformat_minor": 2
}
