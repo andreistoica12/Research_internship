{
 "cells": [
  {
   "attachments": {},
   "cell_type": "markdown",
   "metadata": {},
   "source": [
    "Importing all necessary packages"
   ]
  },
  {
   "cell_type": "code",
   "execution_count": 61,
   "metadata": {},
   "outputs": [],
   "source": [
    "import pandas as pd\n",
    "import os"
   ]
  },
  {
   "attachments": {},
   "cell_type": "markdown",
   "metadata": {},
   "source": [
    "This command deletes all variables in the current environment."
   ]
  },
  {
   "cell_type": "code",
   "execution_count": 62,
   "metadata": {},
   "outputs": [
    {
     "name": "stdout",
     "output_type": "stream",
     "text": [
      "Nothing done.\n"
     ]
    }
   ],
   "source": [
    "%reset"
   ]
  },
  {
   "attachments": {},
   "cell_type": "markdown",
   "metadata": {},
   "source": [
    "Check your working directory"
   ]
  },
  {
   "cell_type": "code",
   "execution_count": 63,
   "metadata": {},
   "outputs": [
    {
     "data": {
      "text/plain": [
       "'/home/andreistoica12/research-internship/Covid_labeled_dataset'"
      ]
     },
     "execution_count": 63,
     "metadata": {},
     "output_type": "execute_result"
    }
   ],
   "source": [
    "%pwd"
   ]
  },
  {
   "attachments": {},
   "cell_type": "markdown",
   "metadata": {},
   "source": [
    "If it is not already the 'Covid_labeled_dataset' folder, you should %cd into the correct folder."
   ]
  },
  {
   "cell_type": "code",
   "execution_count": 64,
   "metadata": {},
   "outputs": [
    {
     "name": "stdout",
     "output_type": "stream",
     "text": [
      "/home/andreistoica12/research-internship/Covid_labeled_dataset\n"
     ]
    }
   ],
   "source": [
    "%cd /home/andreistoica12/research-internship/Covid_labeled_dataset"
   ]
  },
  {
   "cell_type": "code",
   "execution_count": 65,
   "metadata": {},
   "outputs": [
    {
     "data": {
      "text/plain": [
       "['5G_Conspiracy_Graphs', 'Non_Conspiracy_Graphs', 'Other_Graphs']"
      ]
     },
     "execution_count": 65,
     "metadata": {},
     "output_type": "execute_result"
    }
   ],
   "source": [
    "os.listdir()"
   ]
  },
  {
   "cell_type": "code",
   "execution_count": 66,
   "metadata": {},
   "outputs": [],
   "source": [
    "rootdir_path = '/home/andreistoica12/research-internship/Covid_labeled_dataset'"
   ]
  },
  {
   "cell_type": "code",
   "execution_count": 67,
   "metadata": {},
   "outputs": [],
   "source": [
    "data = {}\n",
    "for category in os.listdir(rootdir_path):\n",
    "    category_path = os.path.join(rootdir_path, category)\n",
    "    data['df_'+category] = pd.DataFrame()\n",
    "    for subset in os.listdir(category_path):\n",
    "        subset_path = os.path.join(category_path, subset)\n",
    "        df_subset_nodes = pd.read_csv(subset_path + '/nodes.csv')\n",
    "        data['df_'+category] = pd.concat([data['df_'+category], df_subset_nodes], axis=0)\n",
    "        "
   ]
  },
  {
   "cell_type": "code",
   "execution_count": 69,
   "metadata": {},
   "outputs": [],
   "source": [
    "df_5G = data['df_5G_Conspiracy_Graphs']"
   ]
  },
  {
   "cell_type": "code",
   "execution_count": 70,
   "metadata": {},
   "outputs": [
    {
     "name": "stdout",
     "output_type": "stream",
     "text": [
      "           id     time  friends  followers\n",
      "0   685792319    99330       10         12\n",
      "1    91886213   354203       11         10\n",
      "2   217180773   138772        9         10\n",
      "3   186555251    76972       11          9\n",
      "4    39657063    86770       10         10\n",
      "..        ...      ...      ...        ...\n",
      "48  814942138  1969837        8          7\n",
      "49  449057373   150042        8         10\n",
      "50  102988826        0       12         14\n",
      "51   58068165   252393       10          8\n",
      "52  449523766   513859        9          9\n",
      "\n",
      "[19072 rows x 4 columns]\n"
     ]
    }
   ],
   "source": [
    "print(df_5G)"
   ]
  },
  {
   "cell_type": "code",
   "execution_count": 71,
   "metadata": {},
   "outputs": [],
   "source": [
    "df_5G.drop_duplicates(inplace=True)"
   ]
  },
  {
   "cell_type": "code",
   "execution_count": 72,
   "metadata": {},
   "outputs": [
    {
     "name": "stdout",
     "output_type": "stream",
     "text": [
      "           id     time  friends  followers\n",
      "0   685792319    99330       10         12\n",
      "1    91886213   354203       11         10\n",
      "2   217180773   138772        9         10\n",
      "3   186555251    76972       11          9\n",
      "4    39657063    86770       10         10\n",
      "..        ...      ...      ...        ...\n",
      "48  814942138  1969837        8          7\n",
      "49  449057373   150042        8         10\n",
      "50  102988826        0       12         14\n",
      "51   58068165   252393       10          8\n",
      "52  449523766   513859        9          9\n",
      "\n",
      "[18973 rows x 4 columns]\n"
     ]
    }
   ],
   "source": [
    "print(df_5G)"
   ]
  },
  {
   "cell_type": "code",
   "execution_count": null,
   "metadata": {},
   "outputs": [],
   "source": []
  }
 ],
 "metadata": {
  "kernelspec": {
   "display_name": "venv",
   "language": "python",
   "name": "python3"
  },
  "language_info": {
   "codemirror_mode": {
    "name": "ipython",
    "version": 3
   },
   "file_extension": ".py",
   "mimetype": "text/x-python",
   "name": "python",
   "nbconvert_exporter": "python",
   "pygments_lexer": "ipython3",
   "version": "3.10.6"
  },
  "orig_nbformat": 4,
  "vscode": {
   "interpreter": {
    "hash": "243101c165aceacaf115b49fc146265224cf91574f24df3021157e0d2dabdb2b"
   }
  }
 },
 "nbformat": 4,
 "nbformat_minor": 2
}
