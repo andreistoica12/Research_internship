{
 "cells": [
  {
   "attachments": {},
   "cell_type": "markdown",
   "metadata": {},
   "source": [
    "Delete all variables in the current environment (if you have already run some cells) - clean state."
   ]
  },
  {
   "cell_type": "code",
   "execution_count": 22,
   "metadata": {},
   "outputs": [],
   "source": [
    "%reset"
   ]
  },
  {
   "attachments": {},
   "cell_type": "markdown",
   "metadata": {},
   "source": [
    "Import all necessary packages."
   ]
  },
  {
   "cell_type": "code",
   "execution_count": 23,
   "metadata": {},
   "outputs": [],
   "source": [
    "import os\n",
    "import shutil\n",
    "import json\n",
    "from dateutil import parser\n",
    "import numpy as np\n",
    "import pandas as pd\n",
    "from matplotlib import pyplot as plt\n",
    "import math\n",
    "from sklearn.cluster import KMeans\n",
    "from sklearn.cluster import DBSCAN\n",
    "from sklearn.neighbors import NearestNeighbors\n",
    "from kneed import KneeLocator\n",
    "import networkx as nx"
   ]
  },
  {
   "attachments": {},
   "cell_type": "markdown",
   "metadata": {},
   "source": [
    "Replace with the path to the root folder of the project."
   ]
  },
  {
   "cell_type": "code",
   "execution_count": 24,
   "metadata": {},
   "outputs": [],
   "source": [
    "rootdir_path = '/home/andreistoica12/research-internship'"
   ]
  },
  {
   "attachments": {},
   "cell_type": "markdown",
   "metadata": {},
   "source": [
    "Replace with the path to the folder where we store the dataset."
   ]
  },
  {
   "cell_type": "code",
   "execution_count": 25,
   "metadata": {},
   "outputs": [],
   "source": [
    "data_path = '/home/andreistoica12/research-internship/data/PhemeDataset'"
   ]
  },
  {
   "attachments": {},
   "cell_type": "markdown",
   "metadata": {},
   "source": [
    "IMPORTANT NOTE: After running the code, some files from the dataset will be different from the original versions, i.e. the \"retweets.json\" files inside each story folder were initially invalid. In order to consider and process the retweets in the longitudinal analysis, I formatted these files so that they are valid, parsable JSON files. If the file contained only one retweet object, it has not been modified. If the file contained multiple retweets, the file now contains a list of retweet objects, separated by a comma, as per the JSON syntax."
   ]
  },
  {
   "attachments": {},
   "cell_type": "markdown",
   "metadata": {},
   "source": [
    "The paths to the folder containing all subfolders corresponding to each event of major interest (the Charlie Hebdo shooting, footballer Essien having Ebola, etc.). Tweets here are all written in English."
   ]
  },
  {
   "cell_type": "code",
   "execution_count": 26,
   "metadata": {},
   "outputs": [],
   "source": [
    "events_path = data_path + \"/threads/en\""
   ]
  },
  {
   "attachments": {},
   "cell_type": "markdown",
   "metadata": {},
   "source": [
    "Create 2 subfolders to store important files and graphs, respectively. If they already existed (from previous runnings of the project), delete the folders and their contents and create empty folders to store the current files and graphs, relevant to the current state of the project."
   ]
  },
  {
   "cell_type": "code",
   "execution_count": 27,
   "metadata": {},
   "outputs": [],
   "source": [
    "files_path = os.path.join(rootdir_path, 'files')\n",
    "if os.path.exists(files_path):\n",
    "   shutil.rmtree(files_path, ignore_errors=False, onerror=None)\n",
    "os.makedirs(files_path)\n",
    "\n",
    "graphs_path = os.path.join(rootdir_path, 'graphs')\n",
    "if os.path.exists(graphs_path):\n",
    "   shutil.rmtree(graphs_path, ignore_errors=False, onerror=None)\n",
    "os.makedirs(graphs_path)"
   ]
  },
  {
   "cell_type": "code",
   "execution_count": 28,
   "metadata": {},
   "outputs": [],
   "source": [
    "pheme_graphs_path = os.path.join(graphs_path, 'pheme')\n",
    "if os.path.exists(pheme_graphs_path):\n",
    "   shutil.rmtree(pheme_graphs_path, ignore_errors=False, onerror=None)\n",
    "os.makedirs(pheme_graphs_path)"
   ]
  },
  {
   "cell_type": "code",
   "execution_count": 29,
   "metadata": {},
   "outputs": [],
   "source": [
    "pheme_longitudinal_analysis_graphs = os.path.join(pheme_graphs_path, 'longitudinal-analysis')\n",
    "if os.path.exists(pheme_longitudinal_analysis_graphs):\n",
    "   shutil.rmtree(pheme_longitudinal_analysis_graphs, ignore_errors=False, onerror=None)\n",
    "os.makedirs(pheme_longitudinal_analysis_graphs)"
   ]
  },
  {
   "cell_type": "code",
   "execution_count": 30,
   "metadata": {},
   "outputs": [],
   "source": [
    "pheme_reaction_times_graphs = os.path.join(pheme_graphs_path, 'reaction-times')\n",
    "if os.path.exists(pheme_reaction_times_graphs):\n",
    "   shutil.rmtree(pheme_reaction_times_graphs, ignore_errors=False, onerror=None)\n",
    "os.makedirs(pheme_reaction_times_graphs)"
   ]
  },
  {
   "cell_type": "code",
   "execution_count": 31,
   "metadata": {},
   "outputs": [],
   "source": [
    "pheme_reaction_counts_graphs = os.path.join(pheme_graphs_path, 'reaction-counts')\n",
    "if os.path.exists(pheme_reaction_counts_graphs):\n",
    "   shutil.rmtree(pheme_reaction_counts_graphs, ignore_errors=False, onerror=None)\n",
    "os.makedirs(pheme_reaction_counts_graphs)"
   ]
  },
  {
   "cell_type": "markdown",
   "metadata": {},
   "source": [
    "Here, I define a function that first reads the JSON file and stores it into a dictionary, then parses the date contained at the \"created_at\" key. The number returned is an integer. "
   ]
  },
  {
   "cell_type": "code",
   "execution_count": 32,
   "metadata": {},
   "outputs": [],
   "source": [
    "def tweet_hour(tweet_path):\n",
    "    \"\"\"Function that parses a JSON file associated with a tweet in the PhemeDataset and returns the posting hour.\n",
    "\n",
    "    Args:\n",
    "        tweet_path (str): path to the JSON file associated with a tweet\n",
    "\n",
    "    Returns:\n",
    "        int: posting hour of a tweet\n",
    "    \"\"\"    \n",
    "    with open(tweet_path) as f:\n",
    "        tweet = json.load(f)\n",
    "    date = parser.parse(tweet['created_at'])\n",
    "    \n",
    "    return date.hour"
   ]
  },
  {
   "attachments": {},
   "cell_type": "markdown",
   "metadata": {},
   "source": [
    "Function to return the source path, given the story path."
   ]
  },
  {
   "cell_type": "code",
   "execution_count": 33,
   "metadata": {},
   "outputs": [],
   "source": [
    "def source_tweet_path(story_path):\n",
    "    \"\"\"Function that, given the path to a story, gets the path to the JSON file corresponding to the source tweet\n",
    "\n",
    "    Args:\n",
    "        story_path (str): path to the root folder of a story (e.g. /your/path/to/charliehebdo/552783667052167168)\n",
    "\n",
    "    Returns:\n",
    "        str: path to the source tweet JSON file\n",
    "    \"\"\"    \n",
    "    source_dir_path = story_path + \"/source-tweets\"\n",
    "    source_path = source_dir_path + \"/\" + os.listdir(source_dir_path)[0]\n",
    "    \n",
    "    return source_path"
   ]
  },
  {
   "attachments": {},
   "cell_type": "markdown",
   "metadata": {},
   "source": [
    "Function to return a list of all reactions' paths."
   ]
  },
  {
   "cell_type": "code",
   "execution_count": 34,
   "metadata": {},
   "outputs": [],
   "source": [
    "def reaction_tweets_paths(story_path):\n",
    "    \"\"\"Function that generates a list of reactions (replies) to a tweet within a story.\n",
    "\n",
    "    Args:\n",
    "        story_path (str): path to the root folder of a story (e.g. /your/path/to/charliehebdo/552783667052167168)\n",
    "\n",
    "    Returns:\n",
    "        list: list of paths(strings) for the reactions to the source tweet of a story\n",
    "    \"\"\"    \n",
    "    reactions_paths_list = []\n",
    "    reactions_dir_path = story_path + \"/reactions\"\n",
    "    for reaction_name in os.listdir(reactions_dir_path):\n",
    "        reaction_path = reactions_dir_path + \"/\" + reaction_name\n",
    "        reactions_paths_list.append(reaction_path)\n",
    "        \n",
    "    return reactions_paths_list"
   ]
  },
  {
   "attachments": {},
   "cell_type": "markdown",
   "metadata": {},
   "source": [
    "Function to validate whether a given JSON file is valid or not. Unmodified retweets files (the ones from teh original dataset) are not valid. We only want ot modify them when they are invalid, otherwise they will become invalid again, as we will have duplicate characters (\"[[\" / \"]]\" / \",,\") ."
   ]
  },
  {
   "cell_type": "code",
   "execution_count": 35,
   "metadata": {},
   "outputs": [],
   "source": [
    "def validateJSON(JSON_path):\n",
    "    try:\n",
    "        with open(JSON_path, 'r') as file:\n",
    "            data = json.load(file)\n",
    "    except ValueError as err:\n",
    "        return False\n",
    "    return True"
   ]
  },
  {
   "attachments": {},
   "cell_type": "markdown",
   "metadata": {},
   "source": [
    "Function to modify/format invalid JSON files for further processing."
   ]
  },
  {
   "cell_type": "code",
   "execution_count": 36,
   "metadata": {},
   "outputs": [],
   "source": [
    "def format_retweets_json(retweets_path):\n",
    "    if not validateJSON(retweets_path):\n",
    "        with open(retweets_path, 'r') as invalid_json:\n",
    "            data = invalid_json.read()\n",
    "        data = \"[\\n\" + data.replace(\"}\\n{\", \"},\\n{\") + \"]\"\n",
    "        with open(retweets_path,'w') as valid_json:\n",
    "            valid_json.write(data)"
   ]
  },
  {
   "attachments": {},
   "cell_type": "markdown",
   "metadata": {},
   "source": [
    "Function to return a list of the hours when all retweets of a specific story have been posted."
   ]
  },
  {
   "cell_type": "code",
   "execution_count": 37,
   "metadata": {},
   "outputs": [],
   "source": [
    "def hours_list_retweets(story_path):\n",
    "    retweets_path = story_path + \"/retweets.json\"\n",
    "    hours = []\n",
    "    if os.path.exists(retweets_path):\n",
    "        format_retweets_json(retweets_path)\n",
    "        with open(retweets_path, 'r') as file:\n",
    "            retweets_list = json.load(file)\n",
    "        if type(retweets_list) == list:\n",
    "            hours = [ parser.parse(retweet['created_at']).hour for retweet in retweets_list ]\n",
    "        else:   # we have this case when the JSON file contains one object, but we need to pass a list forward, so we'll have a 1-length list\n",
    "            hours = [parser.parse(retweets_list['created_at']).hour]\n",
    "\n",
    "    return hours"
   ]
  },
  {
   "cell_type": "markdown",
   "metadata": {},
   "source": [
    "I define a function to store all occurences of dates (only the hours) in a list."
   ]
  },
  {
   "cell_type": "code",
   "execution_count": 38,
   "metadata": {},
   "outputs": [],
   "source": [
    "def hours_list_story(story_path):\n",
    "    # I create a list with all occurences of dates corresponding to the source tweet, reactions (replies) and retweets.\n",
    "    hours = []\n",
    "\n",
    "    # source hour\n",
    "    source_path = source_tweet_path(story_path)\n",
    "    hour = tweet_hour(source_path)\n",
    "    hours.append(hour)\n",
    "\n",
    "    # reactions hours\n",
    "    reactions_paths_list = reaction_tweets_paths(story_path)\n",
    "    for reaction_path in reactions_paths_list:\n",
    "        hour = tweet_hour(reaction_path)\n",
    "        hours.append(hour)\n",
    "    \n",
    "    # retweets hours\n",
    "    hours.extend(hours_list_retweets(story_path))\n",
    "    \n",
    "    return hours"
   ]
  },
  {
   "attachments": {},
   "cell_type": "markdown",
   "metadata": {},
   "source": [
    "Here, I define a function to return a pandas Series, representing the distribution of the hours of tweets (source tweets, reactions and retweets) posted regarding a specific event given as an input parameter. I chose to convert the list to a pandas Series due to the ease in creating a distribution and corresponding box plot."
   ]
  },
  {
   "cell_type": "code",
   "execution_count": 39,
   "metadata": {},
   "outputs": [],
   "source": [
    "def time_distribution_event(event_path):\n",
    "    hours = []\n",
    "    for story_id in os.listdir(event_path):\n",
    "        story_path = event_path + \"/\" + story_id\n",
    "        hours.extend(hours_list_story(story_path))\n",
    "    hours.sort()\n",
    "    hours_series = pd.Series(hours)\n",
    "    distribution = hours_series.value_counts()[hours_series.unique()]\n",
    "    \n",
    "    return distribution"
   ]
  },
  {
   "cell_type": "markdown",
   "metadata": {},
   "source": [
    "The following function is delegated to plot the distribution per hour of the tweets sent about a specific topic/event."
   ]
  },
  {
   "cell_type": "code",
   "execution_count": 40,
   "metadata": {},
   "outputs": [],
   "source": [
    "def plot_event_distribution(event_name, distribution):\n",
    "    axes = distribution.plot(kind='bar')\n",
    "    figure_path = f\"{pheme_longitudinal_analysis_graphs}/{event_name}_distribution.png\"\n",
    "    axes.figure.savefig(figure_path)\n",
    "    plt.close()"
   ]
  },
  {
   "attachments": {},
   "cell_type": "markdown",
   "metadata": {},
   "source": [
    "Function to plot and save in the local graphs/ folder the distributions corresponding to all events."
   ]
  },
  {
   "cell_type": "code",
   "execution_count": 41,
   "metadata": {},
   "outputs": [],
   "source": [
    "def plot_all_event_distributions(events_path):\n",
    "    for event in os.listdir(events_path):\n",
    "        event_path = events_path + \"/\" + event\n",
    "        distribution = time_distribution_event(event_path)\n",
    "        plot_event_distribution(event, distribution)"
   ]
  },
  {
   "cell_type": "code",
   "execution_count": 42,
   "metadata": {},
   "outputs": [],
   "source": [
    "plot_all_event_distributions(events_path)"
   ]
  },
  {
   "attachments": {},
   "cell_type": "markdown",
   "metadata": {},
   "source": [
    "Computing the reaction times to tweets"
   ]
  },
  {
   "cell_type": "code",
   "execution_count": 43,
   "metadata": {},
   "outputs": [],
   "source": [
    "deltas_types = ['hours', 'minutes']"
   ]
  },
  {
   "attachments": {},
   "cell_type": "markdown",
   "metadata": {},
   "source": [
    "Choose between 'hours' and 'minutes' if you want to plot the final graph in hours or minutes."
   ]
  },
  {
   "attachments": {},
   "cell_type": "markdown",
   "metadata": {},
   "source": [
    "NOTE: This variable needs to have either one of the values in the deltas_types list, otherwise the deltas will be an empty list,\n",
    "so the plots will make no sense in the end."
   ]
  },
  {
   "cell_type": "code",
   "execution_count": 44,
   "metadata": {},
   "outputs": [],
   "source": [
    "deltas_type = deltas_types[0]"
   ]
  },
  {
   "cell_type": "code",
   "execution_count": 45,
   "metadata": {},
   "outputs": [],
   "source": [
    "def deltas_story(story_path, deltas_type):\n",
    "    \"\"\"Function that generates a list of time differences between the moment a reaction (reply or retweet) has been posted\n",
    "    and the moment the source tweet of a story has been posted. Depending on the time unit of such time difference \n",
    "    (e.g. 'hours' or 'minutes'), the function outputs a list with numbers expressed in the respective type\n",
    "\n",
    "    Args:\n",
    "        story_path (str): path to the root folder of a story (e.g. /your/path/to/charliehebdo/552783667052167168)\n",
    "        deltas_type (str): time unit for time differences\n",
    "\n",
    "    Returns:\n",
    "        list: list of time differences expressed in deltas_type time units\n",
    "    \"\"\"    \n",
    "    if deltas_type not in ['minutes', 'hours']:\n",
    "        print(\"Deltas type doesn't have a valid value - it should be either 'hours' or 'minutes' !\")\n",
    "        return []\n",
    "    \n",
    "    factor = 60 * 60\n",
    "    factor = 60 if deltas_type == 'minutes' else factor\n",
    "\n",
    "    deltas = []\n",
    "\n",
    "    # Step 1: get t0 datetime object from the source timestamp\n",
    "    source_path = source_tweet_path(story_path)\n",
    "    with open(source_path) as file:\n",
    "        source = json.load(file)\n",
    "    t0 = parser.parse(source['created_at'])\n",
    "\n",
    "    # Step 2: for all reactions, get the difference in minutes/hours \n",
    "    # from the time the source was posted and the time each reaction was posted\n",
    "    reactions_paths_list = reaction_tweets_paths(story_path)\n",
    "    for reaction_path in reactions_paths_list:\n",
    "        with open(reaction_path) as file:\n",
    "            reaction = json.load(file)\n",
    "        deltas.append((parser.parse(reaction['created_at']) - t0).total_seconds() / factor )\n",
    "\n",
    "    # Step 3: for all retweets, get the same time difference in miuntes as above\n",
    "    retweets_path = story_path + \"/retweets.json\"\n",
    "    if os.path.exists(retweets_path):\n",
    "        format_retweets_json(retweets_path)\n",
    "        with open(retweets_path, 'r') as file:\n",
    "            retweets_list = json.load(file)\n",
    "        if type(retweets_list) == list:\n",
    "            deltas.extend([ (parser.parse(retweet['created_at']) - t0).total_seconds() / factor for retweet in retweets_list ])\n",
    "        else:   # here, the JSON file contains one object, but we need to pass a list forward, so we'll have a 1-length list\n",
    "            deltas.extend([ (parser.parse(retweets_list['created_at']) - t0).total_seconds() / factor ])\n",
    "\n",
    "    return deltas"
   ]
  },
  {
   "cell_type": "code",
   "execution_count": 46,
   "metadata": {},
   "outputs": [],
   "source": [
    "def deltas_event(event_path, deltas_type):\n",
    "    deltas = []\n",
    "    for story_name in os.listdir(event_path):\n",
    "            story_path = event_path + \"/\" + story_name\n",
    "            deltas.extend(deltas_story(story_path, deltas_type))\n",
    "\n",
    "    return deltas"
   ]
  },
  {
   "cell_type": "code",
   "execution_count": 47,
   "metadata": {},
   "outputs": [],
   "source": [
    "def deltas_all_events(events_path, deltas_type):\n",
    "    deltas_all_events = {}\n",
    "    for event_name in os.listdir(events_path):\n",
    "        event_path = events_path + \"/\" + event_name\n",
    "        deltas_all_events[event_name] = deltas_event(event_path, deltas_type)\n",
    "    \n",
    "    return deltas_all_events"
   ]
  },
  {
   "attachments": {},
   "cell_type": "markdown",
   "metadata": {},
   "source": [
    "We need to define the number of clusters we want to have, as it needs to be passed onto the K-Means algorithm. Therefore, one of the easiest methods is to look for the \"elbow\" point in the plot above, i.e. the point where the rate of decrease in WCSS begins to level off. The optimal number of clusters can be found through teh KneeLocator function within the kneed Python module. Curves with positive concavity are called \"elbows\", the ones with negative concavity are called \"knees\". Our K-Means inertia values are decreasing when we increase the number of clusters, because the inertia is calculated by measuring the distance between each data point and its centroid, so having more clusters means points will be closer to their clusters' centroids. So we will have a decreasing convex curve and thus we will pass on this information as arguments in the KneeLocator function."
   ]
  },
  {
   "cell_type": "code",
   "execution_count": 48,
   "metadata": {},
   "outputs": [],
   "source": [
    "def elbow_method_k_means_clusters(deltas, max_nr_clusters):\n",
    "    wcss = []   # within-cluster sum of squares\n",
    "    deltas = np.array(deltas)\n",
    "    deltas = deltas.reshape(-1, 1)\n",
    "    for k in range(1, max_nr_clusters+1):\n",
    "        kmeans = KMeans(n_clusters=k, n_init=\"auto\", random_state=0)\n",
    "        kmeans.fit(deltas)\n",
    "        wcss.append(kmeans.inertia_)\n",
    "\n",
    "    kn = KneeLocator(range(1, max_nr_clusters+1), wcss, curve='convex', direction='decreasing')\n",
    "\n",
    "    # # Plot the within-cluster sum of squares against the number of clusters\n",
    "    # # If you want to visualize the knee point of the graph, you can plot the graph using the following function, \n",
    "    # # specifically designed to highlight the knee point\n",
    "    # kn.plot_knee()\n",
    "\n",
    "    return kn.knee"
   ]
  },
  {
   "cell_type": "code",
   "execution_count": 49,
   "metadata": {},
   "outputs": [],
   "source": [
    "def k_means_clustering(k, deltas):\n",
    "    deltas = np.array(deltas)\n",
    "    deltas = deltas.reshape(-1, 1)\n",
    "\n",
    "    # Create a KMeans object with the specified number of clusters\n",
    "    kmeans = KMeans(n_clusters=k, n_init=\"auto\", random_state=0)\n",
    "    kmeans.fit(deltas)\n",
    "\n",
    "    # Get the labels assigned to each data point\n",
    "    labels = kmeans.labels_\n",
    "\n",
    "    # Get the centroids of each cluster\n",
    "    centroids = kmeans.cluster_centers_\n",
    "\n",
    "    # # Print an overview of the resulting clusters\n",
    "    # for i in range(k):\n",
    "    #     cluster_data = deltas[labels == i]\n",
    "    #     print(f\"Cluster {i+1} has {len(cluster_data)} data points and a centroid of {centroids[i][0]}\")\n",
    "\n",
    "    # Create a dictionary to store the clustered data\n",
    "    clusters_dict = {}\n",
    "    labels_list = []\n",
    "    for label in labels:\n",
    "        labels_list.append(label)\n",
    "    \n",
    "    for index, label in enumerate(labels_list):\n",
    "        if label not in clusters_dict:\n",
    "            clusters_dict[label] = [deltas[index][0]]\n",
    "        else:\n",
    "            clusters_dict[label].append(deltas[index][0])\n",
    "    \n",
    "    return clusters_dict"
   ]
  },
  {
   "attachments": {},
   "cell_type": "markdown",
   "metadata": {},
   "source": [
    "The implementation below makes use of the Nearest Neighbors algorithm in order to find the optimal value for epsilon, as per:\n",
    "https://towardsdatascience.com/machine-learning-clustering-dbscan-determine-the-optimal-value-for-epsilon-eps-python-example-3100091cfbc .\n",
    "However, the distances plot seems odd and the knee obtained through the KneeLocator function doesn't yield the best results. For now, I set the eps parameter to be 0.3 so that we have good clustering results."
   ]
  },
  {
   "attachments": {},
   "cell_type": "markdown",
   "metadata": {},
   "source": [
    "For example, I tried to cluster the deltas from all the stories within the Germanwings crash event."
   ]
  },
  {
   "cell_type": "code",
   "execution_count": 50,
   "metadata": {},
   "outputs": [],
   "source": [
    "deltas = deltas_event('/home/andreistoica12/research-internship/data/PhemeDataset/threads/en/prince-toronto', deltas_type)"
   ]
  },
  {
   "cell_type": "code",
   "execution_count": 51,
   "metadata": {},
   "outputs": [],
   "source": [
    "def epsilon_DBSCAN(deltas):\n",
    "    deltas = np.array(deltas)\n",
    "    deltas = deltas.reshape(-1, 1)\n",
    "\n",
    "    neigh = NearestNeighbors(n_neighbors=5) # usually, the kth nearest neighbor is chosen somewhere between 3 and 10\n",
    "    nbrs = neigh.fit(deltas)\n",
    "    distances, indices = nbrs.kneighbors(deltas)\n",
    "    distances = np.sort(distances, axis=0)\n",
    "    distances = distances[:,1]\n",
    "    plt.plot(distances)\n",
    "\n",
    "    kn = KneeLocator(range(1, len(distances)+1), distances, curve='convex', direction='increasing')\n",
    "\n",
    "    return float(distances[kn.knee])"
   ]
  },
  {
   "cell_type": "markdown",
   "metadata": {},
   "source": [
    "As you can see, the graph seems odd."
   ]
  },
  {
   "cell_type": "code",
   "execution_count": 52,
   "metadata": {},
   "outputs": [
    {
     "data": {
      "text/plain": [
       "0.13027777777777816"
      ]
     },
     "execution_count": 52,
     "metadata": {},
     "output_type": "execute_result"
    },
    {
     "data": {
      "image/png": "[encoded data removed]",
      "text/plain": [
       "<Figure size 640x480 with 1 Axes>"
      ]
     },
     "metadata": {},
     "output_type": "display_data"
    }
   ],
   "source": [
    "epsilon_DBSCAN(deltas)"
   ]
  },
  {
   "cell_type": "code",
   "execution_count": 53,
   "metadata": {},
   "outputs": [],
   "source": [
    "def DBSCAN_clustering(deltas):\n",
    "    deltas = np.array(deltas)\n",
    "    deltas = deltas.reshape(-1, 1)\n",
    "\n",
    "    # # Compute the value for epsilon using the function defined previously\n",
    "    # epsilon = epsilon_DBSCAN(deltas)\n",
    "    epsilon = 0.3\n",
    "\n",
    "    # Create a DBSCAN object with epsilon as the computed value and minimum samples=5\n",
    "    dbscan = DBSCAN(eps=epsilon, min_samples=5)\n",
    "\n",
    "    # Fit the DBSCAN object to the data\n",
    "    dbscan.fit(deltas)\n",
    "\n",
    "    # Get the labels assigned to each data point\n",
    "    labels = dbscan.labels_\n",
    "\n",
    "    # # Print the number of clusters and the labels assigned to each data point\n",
    "    # n_clusters = len(set(labels)) - (1 if -1 in labels else 0)\n",
    "    # print(\"Number of clusters:\", n_clusters)\n",
    "    # print(\"Labels:\", labels)\n",
    "\n",
    "    # Create a dictionary to store the clusters\n",
    "    clusters_dict = {}\n",
    "    for i, label in enumerate(labels):\n",
    "        if label in clusters_dict:\n",
    "            clusters_dict[label].append(deltas[i][0])\n",
    "        else:\n",
    "            clusters_dict[label] = [deltas[i][0]]\n",
    "    \n",
    "    return clusters_dict"
   ]
  },
  {
   "attachments": {},
   "cell_type": "markdown",
   "metadata": {},
   "source": [
    "Until now, I have implemented 2 ways to cluster the deltas. By default, I use the Density-Based Spatial Clustering of Applications with Noise (DBSCAN), because it focuses on the patterns that we observe from the majority of data points, and the outliers don't affect the way it clusters the other points, whereas the K-Means algorithm builds its centroids based on all the data points and it may be deceiving in a plot. Moreover, plots obtained with the DBSCAN clustering algorithm tend to yield more and tighter clusters than the number of clusters obtained with the help of the Elbow Method in the case of the K-Means clustering."
   ]
  },
  {
   "cell_type": "code",
   "execution_count": 54,
   "metadata": {},
   "outputs": [],
   "source": [
    "clustering_algorithms = ['k-means', 'DBSCAN']"
   ]
  },
  {
   "cell_type": "code",
   "execution_count": 55,
   "metadata": {},
   "outputs": [],
   "source": [
    "clustering_algorithm = clustering_algorithms[1]"
   ]
  },
  {
   "cell_type": "code",
   "execution_count": 56,
   "metadata": {},
   "outputs": [],
   "source": [
    "def clusters_all_events(events_path, deltas_type, clustering_algorithm):\n",
    "    all_events_deltas = deltas_all_events(events_path, deltas_type)\n",
    "    all_events_clusters = {}\n",
    "    for event_name, event_deltas in all_events_deltas.items():\n",
    "        if clustering_algorithm == 'k-means':\n",
    "            # loop over maximum 10 clusters, as this is a range where you usually find the optimum number of clusters\n",
    "            k = elbow_method_k_means_clusters(event_deltas, 10)\n",
    "            # print(f\"\\nEvent {event_name}:\")\n",
    "            # print(f\"NOTE: Numbers represent {deltas_type}\\n\")\n",
    "            all_events_clusters[event_name] = k_means_clustering(k, event_deltas)\n",
    "        elif clustering_algorithm == 'DBSCAN':\n",
    "            all_events_clusters[event_name] = DBSCAN_clustering(event_deltas)\n",
    "        \n",
    "    return all_events_clusters\n"
   ]
  },
  {
   "attachments": {},
   "cell_type": "markdown",
   "metadata": {},
   "source": [
    "Function that receives the first clusters generated either through K-Means or DBSCAN and tries to see whether it can find some subgraphs more relevant for the visualization. A recursive function is defined in order to re-cluster the biggest cluster until the newly-computed biggest cluster contains fewer than 70% of the data points. I considered this a good threshold to stop, because the graph will clearly show, on one hand, which is the overwhelingly biggest cluster, and on the other hand, the next number_of_clusters - 1 biggest clusters/subclusters so we have a better overview of the most important clusters/subclusters in our datasets. I chose to apply K-Means for the reapplication of clustering on the biggest cluster due to its computationally-efficient nature, which is hands-down superior to DBSCAN's. In fact, not only did the algorithm implemented with DBSCAN for subclusters take a lot longer, it even crashed before the end, due to the number of recursive calls exceeding the limit of the kernel. Therefore, considering the trade-off between better clustering and efficiency, the option below yielded the optimal results."
   ]
  },
  {
   "attachments": {},
   "cell_type": "markdown",
   "metadata": {},
   "source": [
    "Besides technical reasons, I opted to first cluster the points with DBSCAN, due to its ability to ignore outlier points, they are not taken into account when clusters are created, which is of great help for a good visualization. After the first clusterization, we only have relevant points, so K-Means will yield good results (its problem were outlier points which influenced the computation of centroids)."
   ]
  },
  {
   "cell_type": "code",
   "execution_count": 57,
   "metadata": {},
   "outputs": [],
   "source": [
    "def clusters_for_plot(clusters, number_of_clusters):\n",
    "    total_length = 0\n",
    "    for value in clusters.values():\n",
    "            total_length += len(value)\n",
    "    subclusters_for_plot = {}\n",
    "    \n",
    "    def subclusters(clusters):\n",
    "            if(len(clusters)):\n",
    "                key_for_biggest_cluster = max(clusters, key=lambda k: len(clusters[k]))\n",
    "                if len(clusters[key_for_biggest_cluster]) / total_length < 0.7:\n",
    "                    print(\"Reached base case.\")\n",
    "                    return clusters\n",
    "                else:\n",
    "                    # print(\"We'll go back into subclusters function.\")\n",
    "                    # print(f\"Length of current clusters: {len(clusters)}\")\n",
    "                    # print(\"Current clusters look like this:\")\n",
    "                    # for key, value in clusters.items():\n",
    "                    #      print(f\"{key}: {math.floor(min(value))} - {math.ceil(max(value))}\")\n",
    "\n",
    "                    biggest_cluster = clusters[key_for_biggest_cluster]\n",
    "                    # print(\"Biggest cluster:\")\n",
    "                    # print(biggest_cluster[:3])\n",
    "                    \n",
    "                    del clusters[key_for_biggest_cluster]\n",
    "                    # print(\"Clusters after removing biggest_cluster:\")\n",
    "                    # for key, value in clusters.items():\n",
    "                    #      print(f\"{key}: {math.floor(min(value))} - {math.ceil(max(value))}\")\n",
    "                    \n",
    "                    # K-MEANS CLUSTERING\n",
    "                    k = elbow_method_k_means_clusters(biggest_cluster, 10)\n",
    "                    # print(f\"k = {k}\")\n",
    "                    \n",
    "                    subcl = k_means_clustering(k, biggest_cluster)\n",
    "                    # print(\"subcl - the subclusters dictionary obtained from the biggest_cluster looks like this:\")\n",
    "                    # for key, value in subcl.items():\n",
    "                    #      print(f\"{key}: {math.floor(min(value))} - {math.ceil(max(value))}\")\n",
    "                    \n",
    "                    for key, value in subcl.items():\n",
    "                        clusters[max(clusters.keys())+1] = value\n",
    "                    \n",
    "                    # print(f\"Length of clusters after modifications: {len(clusters)}\")\n",
    "                    # print(\"Clusters look like this:\")\n",
    "                    # for key, value in clusters.items():\n",
    "                    #      print(f\"{key}: {math.floor(min(value))} - {math.ceil(max(value))}\")\n",
    "                    \n",
    "                    subclusters(clusters)\n",
    "            else:\n",
    "                print(\"Clusters dictionary is empty.\")\n",
    "                return clusters\n",
    "            \n",
    "\n",
    "    subclusters(clusters)\n",
    "\n",
    "    if len(clusters) >= number_of_clusters:\n",
    "        for i in range(number_of_clusters):\n",
    "            key_for_biggest_cluster = max(clusters, key=lambda k: len(clusters[k]))\n",
    "            subclusters_for_plot[i] = clusters[key_for_biggest_cluster]\n",
    "            del clusters[key_for_biggest_cluster]\n",
    "    else:\n",
    "        subclusters_for_plot = clusters\n",
    "    \n",
    "    return subclusters_for_plot"
   ]
  },
  {
   "cell_type": "code",
   "execution_count": 58,
   "metadata": {},
   "outputs": [],
   "source": [
    "def plot_reaction_times(events_path, deltas_type):\n",
    "    all_clusters = clusters_all_events(events_path, deltas_type, clustering_algorithm)\n",
    "\n",
    "    for event_name, clusters in all_clusters.items():\n",
    "        print(f\"Event: {event_name}\")\n",
    "        clusters_to_be_plotted = clusters_for_plot(clusters, 5)\n",
    "\n",
    "        final_clusters_for_plot = {}\n",
    "        for key, value in clusters_to_be_plotted.items():\n",
    "            final_clusters_for_plot[f\"{math.floor(min(value))} - {math.ceil(max(value))}\"] = len(value)\n",
    "\n",
    "        intervals_unsorted = list(final_clusters_for_plot.keys())\n",
    "        values_unsorted = list(final_clusters_for_plot.values())\n",
    "        df_plot = pd.DataFrame(\n",
    "            dict(\n",
    "                Interval=intervals_unsorted,\n",
    "                Value=values_unsorted\n",
    "            )\n",
    "        )\n",
    "        \n",
    "        df_plot['Start of interval'] = df_plot['Interval'].str.split(' - ').str[0]\n",
    "        df_plot['Start of interval'] = df_plot['Start of interval'].apply(pd.to_numeric) \n",
    "        df_plot_sorted = df_plot.sort_values('Start of interval')\n",
    "        intervals = list(df_plot_sorted['Interval'])\n",
    "        values = list(df_plot_sorted['Value'])\n",
    "\n",
    "\n",
    "        plt.bar(range(len(final_clusters_for_plot)), values, tick_label=intervals)\n",
    "        # Rotate the x-axis labels by 45 degrees\n",
    "        plt.xticks(rotation=45)\n",
    "        plt.title(f'Distribution of reaction times in {deltas_type}')\n",
    "        plt.xlabel(f'Reaction times (between x and y {deltas_type})')\n",
    "        plt.ylabel('Number of reactions')\n",
    "        plt.savefig(pheme_reaction_times_graphs + f\"/{event_name}_reaction_times.png\")\n",
    "        plt.close()"
   ]
  },
  {
   "attachments": {},
   "cell_type": "markdown",
   "metadata": {},
   "source": [
    "NOTE: the cell below runs for ~22 sec on my machine if the session has just started. If you run the code again, it takes ~18 sec, due to probably cached information."
   ]
  },
  {
   "cell_type": "code",
   "execution_count": 59,
   "metadata": {},
   "outputs": [
    {
     "name": "stdout",
     "output_type": "stream",
     "text": [
      "Event: germanwings-crash\n",
      "Reached base case.\n",
      "Event: ottawashooting\n",
      "Reached base case.\n",
      "Event: ferguson\n",
      "Reached base case.\n",
      "Event: sydneysiege\n",
      "Reached base case.\n",
      "Event: charliehebdo\n",
      "Reached base case.\n",
      "Event: prince-toronto\n",
      "Reached base case.\n",
      "Event: ebola-essien\n",
      "Reached base case.\n",
      "Event: putinmissing\n",
      "Reached base case.\n"
     ]
    }
   ],
   "source": [
    "plot_reaction_times(events_path, deltas_type)"
   ]
  },
  {
   "cell_type": "code",
   "execution_count": 60,
   "metadata": {},
   "outputs": [],
   "source": [
    "# TODO: see how to make K-Means have all uninterfering deltas (if I can even do that)\n",
    "# (e.g. in cluser 1, centroid 2, there is a delta of 4.4 and in cluster 2, centroid 15, there is a delta of 3.3)"
   ]
  },
  {
   "cell_type": "code",
   "execution_count": 61,
   "metadata": {},
   "outputs": [],
   "source": [
    "# TODO: document new functions, explain how I sorted the columns in graphs for all events"
   ]
  },
  {
   "cell_type": "code",
   "execution_count": 62,
   "metadata": {},
   "outputs": [],
   "source": [
    "# TODO: see what DBSCAN does exactly and how it is different than K-Means (we can see sub clusters, we usually have more clusters etc.)"
   ]
  },
  {
   "cell_type": "code",
   "execution_count": 63,
   "metadata": {},
   "outputs": [],
   "source": [
    "# TODO: explain the function for creating subclusters of the biggest clusters and choosing the most important ones"
   ]
  },
  {
   "attachments": {},
   "cell_type": "markdown",
   "metadata": {},
   "source": [
    "Reactions counts for the source tweets - the number of reactions per tweet posted at hour x."
   ]
  },
  {
   "cell_type": "code",
   "execution_count": 64,
   "metadata": {},
   "outputs": [],
   "source": [
    "def reactions_count_for_source_tweet(story_path):\n",
    "    \"\"\"Function that generates the number of reactions (replies or retweets) of a single source tweet \n",
    "    (a story contains one source tweet).\n",
    "\n",
    "    Args:\n",
    "        story_path (str): path to the root folder of a story (e.g. /your/path/to/charliehebdo/552783667052167168)\n",
    "\n",
    "    Returns:\n",
    "        int: number of reactions for a source tweet\n",
    "    \"\"\"    \n",
    "    reactions_paths_list = reaction_tweets_paths(story_path)\n",
    "    reactions_count = len(reactions_paths_list)\n",
    "\n",
    "    retweets_path = story_path + \"/retweets.json\"\n",
    "    if os.path.exists(retweets_path):\n",
    "        format_retweets_json(retweets_path)\n",
    "        with open(retweets_path, 'r') as file:\n",
    "            retweets_list = json.load(file)\n",
    "        reactions_count += len(retweets_list)\n",
    "    \n",
    "    return reactions_count"
   ]
  },
  {
   "cell_type": "code",
   "execution_count": 65,
   "metadata": {},
   "outputs": [],
   "source": [
    "def reaction_counts_per_tweet_event(event_path):\n",
    "    \"\"\"Function that generates the dictionary of reaction counts per tweet per hour.\n",
    "     Based on this dictionary, a plot can be made.\n",
    "\n",
    "    Args:\n",
    "        event_path (str): path to the root folder of an event (e.g. /your/path/to/charliehebdo)\n",
    "\n",
    "    Returns:\n",
    "        dict: dictionary with keys as posting hours of source tweets and values as the number of reactions per tweet per key(hour)\n",
    "    \"\"\"    \n",
    "    number_of_source_tweets_per_hour = {}\n",
    "    reactions_count_per_hour = {}\n",
    "    for story_id in os.listdir(event_path):\n",
    "        story_path = event_path + \"/\" + story_id\n",
    "        source_path = source_tweet_path(story_path)\n",
    "        source_hour = tweet_hour(source_path)\n",
    "        if source_hour in number_of_source_tweets_per_hour:\n",
    "            number_of_source_tweets_per_hour[source_hour] += 1\n",
    "        else:\n",
    "            number_of_source_tweets_per_hour[source_hour] = 1\n",
    "        if source_hour in reactions_count_per_hour:\n",
    "            reactions_count_per_hour[source_hour] += reactions_count_for_source_tweet(story_path)\n",
    "        else:\n",
    "            reactions_count_per_hour[source_hour] = reactions_count_for_source_tweet(story_path)\n",
    "\n",
    "    reactions_per_tweet = {}\n",
    "    for source_hour in number_of_source_tweets_per_hour:\n",
    "        reactions_per_tweet[source_hour] = round(reactions_count_per_hour[source_hour] / number_of_source_tweets_per_hour[source_hour])\n",
    "\n",
    "    return reactions_per_tweet\n",
    "    # COMMENT THE FIRST RETURN STATEMENT AND UNCOMMENT THE SECOND TO RETURN A LIST WITH 2 DICTIONARIES:\n",
    "    # - the reaction counts per tweet\n",
    "    # - the absolute reaction counts\n",
    "    # return [reactions_per_tweet, reactions_count_per_hour]\n"
   ]
  },
  {
   "cell_type": "code",
   "execution_count": 66,
   "metadata": {},
   "outputs": [],
   "source": [
    "# function to add value labels - adds the value of y\n",
    "def add_labels_y_value(x,y):\n",
    "    \"\"\"Function that takes the x and y-axis to be passed onto a plot function and generates labels,\n",
    "    such that on top of each y value, it is displayed centrally.\n",
    "\n",
    "    Args:\n",
    "        x (list): list of labels for x-axis of a plot\n",
    "        y (list): list of values for y-axis of a plot\n",
    "    \"\"\"    \n",
    "    for i in range(len(x)):\n",
    "        plt.text(i, y[i], y[i], ha = 'center')"
   ]
  },
  {
   "cell_type": "code",
   "execution_count": 67,
   "metadata": {},
   "outputs": [],
   "source": [
    "def add_labels_percentage(x, y):\n",
    "    \"\"\"Function that takes the x and y-axis to be passed onto a plot function and generates labels,\n",
    "    such that on top of each y value, the percentage of the y value out of the sum of all y-s is displayed as a red bounding box.\n",
    "    Useful when y-s represent the counts of occurences for some values.\n",
    "\n",
    "    Args:\n",
    "        x (list): list of labels for x-axis of a plot\n",
    "        y (list): list of values for y-axis of a plot\n",
    "    \"\"\"    \n",
    "    for i in range(len(x)):\n",
    "        percentage = y[i] / sum(y) * 100\n",
    "        plt.text(i, y[i], f\"{round(percentage, 1)}%\", ha = 'center',\n",
    "                 bbox = dict(facecolor = 'red', alpha =.7, pad=2))"
   ]
  },
  {
   "cell_type": "code",
   "execution_count": 68,
   "metadata": {},
   "outputs": [],
   "source": [
    "def plot_reaction_counts_per_tweet_event(event_path):\n",
    "    \"\"\"Function that creates and saves locally a plot for an event in the dataset. The plots shows the number of reaction counts\n",
    "    (replies or retweets) per tweet posted at an hour indicated by the x-axis labels.\n",
    "\n",
    "    Args:\n",
    "        event_path (str): path to the root folder of an event (e.g. /your/path/to/charliehebdo)\n",
    "    \"\"\"    \n",
    "    reactions_per_tweet_dict = reaction_counts_per_tweet_event(event_path)\n",
    "\n",
    "    # sort the dictionary by keys\n",
    "    sorted_reactions_per_tweet_dict = sorted(reactions_per_tweet_dict.items())\n",
    "\n",
    "    # extract the sorted keys and values\n",
    "    sorted_posting_hours = [k for k, v in sorted_reactions_per_tweet_dict]\n",
    "    sorted_counts = [v for k, v in sorted_reactions_per_tweet_dict]\n",
    "\n",
    "    plt.bar(range(len(reactions_per_tweet_dict)), sorted_counts, tick_label=sorted_posting_hours)\n",
    "    # Rotate the x-axis labels by 45 degrees\n",
    "    plt.xticks(rotation=45)\n",
    "    # calling the function to add value labels\n",
    "    add_labels_y_value(sorted_posting_hours, sorted_counts)\n",
    "    graph_type = 'per tweet'\n",
    "    plt.title(f\"Reaction counts {graph_type} - {os.path.basename(event_path)} event\")\n",
    "    plt.xlabel(\"Posting hour of source tweet\")\n",
    "    plt.ylabel(f\"Number of reactions {graph_type}\")\n",
    "    plt.savefig(pheme_reaction_counts_graphs + f\"/{os.path.basename(event_path)}_reaction_counts_{graph_type}.png\")\n",
    "    plt.close()\n",
    "\n",
    "    # COMMENT THE FIRST PART OF THE FUNCTION AND UNCOMMENT THIS PART TO CREATE 2 GRAPHS:\n",
    "    # - reaction counts per tweet per hour\n",
    "    # - absolute reaction counts per hour\n",
    "    # NOTE: you should also return a list in the reaction_counts_per_tweet_event() function \n",
    "    # (comment out the current return statement and uncomment the other)\n",
    "    \n",
    "    # [reactions_per_tweet_dict, reactions_count_per_hour_dict] = reactions_per_tweet_event(event_path)\n",
    "    # results = [reactions_per_tweet_dict, reactions_count_per_hour_dict]\n",
    "    # for i in range(len(results)):\n",
    "    #     dictionary = results[i]\n",
    "    #     # sort the dictionary by keys\n",
    "    #     sorted_reactions_per_tweet_dict = sorted(dictionary.items())\n",
    "\n",
    "    #     # extract the sorted keys and values\n",
    "    #     sorted_posting_hours = [k for k, v in sorted_reactions_per_tweet_dict]\n",
    "    #     sorted_counts = [v for k, v in sorted_reactions_per_tweet_dict]\n",
    "\n",
    "    #     plt.bar(range(len(reactions_per_tweet_dict)), sorted_counts, tick_label=sorted_posting_hours)\n",
    "    #     # Rotate the x-axis labels by 45 degrees\n",
    "    #     plt.xticks(rotation=45)\n",
    "    #     # calling the function to add value labels\n",
    "    #     add_labels_y_value(sorted_posting_hours, sorted_counts)\n",
    "    #     graph_type = 'absolute'\n",
    "    #     graph_type = 'per tweet' if i == 0 else graph_type\n",
    "    #     plt.title(f\"Reaction counts {graph_type} - {os.path.basename(event_path)} event\")\n",
    "    #     plt.xlabel(\"Posting hour of source tweet\")\n",
    "    #     plt.ylabel(f\"Number of reactions {graph_type}\")\n",
    "    #     plt.savefig(pheme_reaction_counts_graphs + f\"/{os.path.basename(event_path)}_reaction_counts_{graph_type}.png\")\n",
    "    #     plt.close()"
   ]
  },
  {
   "cell_type": "code",
   "execution_count": 69,
   "metadata": {},
   "outputs": [],
   "source": [
    "def plot_reaction_counts_per_tweet_all_events(events_path):\n",
    "    \"\"\"Function that saves all plots, corresponding to all events, locally.\n",
    "\n",
    "    Args:\n",
    "        events_path (str): path to the root folder of all events in the dataset(e.g. /your/path/to/threads/en)\n",
    "    \"\"\"    \n",
    "    for event_name in os.listdir(events_path):\n",
    "        event_path = events_path + \"/\" + event_name\n",
    "        plot_reaction_counts_per_tweet_event(event_path)"
   ]
  },
  {
   "cell_type": "code",
   "execution_count": 70,
   "metadata": {},
   "outputs": [],
   "source": [
    "plot_reaction_counts_per_tweet_all_events(events_path)"
   ]
  },
  {
   "cell_type": "code",
   "execution_count": null,
   "metadata": {},
   "outputs": [],
   "source": []
  }
 ],
 "metadata": {
  "kernelspec": {
   "display_name": "venv",
   "language": "python",
   "name": "python3"
  },
  "language_info": {
   "codemirror_mode": {
    "name": "ipython",
    "version": 3
   },
   "file_extension": ".py",
   "mimetype": "text/x-python",
   "name": "python",
   "nbconvert_exporter": "python",
   "pygments_lexer": "ipython3",
   "version": "3.10.6"
  },
  "orig_nbformat": 4,
  "vscode": {
   "interpreter": {
    "hash": "243101c165aceacaf115b49fc146265224cf91574f24df3021157e0d2dabdb2b"
   }
  }
 },
 "nbformat": 4,
 "nbformat_minor": 2
}
