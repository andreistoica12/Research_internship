{
 "cells": [
  {
   "attachments": {},
   "cell_type": "markdown",
   "metadata": {},
   "source": [
    "Delete all variables in the current environment (if you have already run some cells) - clean state."
   ]
  },
  {
   "cell_type": "code",
   "execution_count": 192,
   "metadata": {},
   "outputs": [],
   "source": [
    "%reset"
   ]
  },
  {
   "attachments": {},
   "cell_type": "markdown",
   "metadata": {},
   "source": [
    "Import all necessary packages."
   ]
  },
  {
   "cell_type": "code",
   "execution_count": 228,
   "metadata": {},
   "outputs": [],
   "source": [
    "import networkx as nx\n",
    "import numpy as np\n",
    "import pandas as pd\n",
    "from matplotlib import pyplot as plt\n",
    "import os\n",
    "import shutil\n",
    "from datetime import datetime\n",
    "from dateutil import parser\n",
    "import json\n",
    "from sklearn.cluster import KMeans\n",
    "import math"
   ]
  },
  {
   "attachments": {},
   "cell_type": "markdown",
   "metadata": {},
   "source": [
    "Replace with the path to the root folder of the project."
   ]
  },
  {
   "cell_type": "code",
   "execution_count": 194,
   "metadata": {},
   "outputs": [],
   "source": [
    "rootdir_path = '/home/andreistoica12/research-internship'"
   ]
  },
  {
   "attachments": {},
   "cell_type": "markdown",
   "metadata": {},
   "source": [
    "Replace with the path to the folder where we store the dataset."
   ]
  },
  {
   "cell_type": "code",
   "execution_count": 195,
   "metadata": {},
   "outputs": [],
   "source": [
    "data_path = '/home/andreistoica12/research-internship/data/PhemeDataset'"
   ]
  },
  {
   "attachments": {},
   "cell_type": "markdown",
   "metadata": {},
   "source": [
    "IMPORTANT NOTE: After running the code, some files from the dataset will be different from the original versions, i.e. the \"retweets.json\" files inside each story folder were initially invalid. In order to consider and process the retweets in the longitudinal analysis, I formatted these files so that they are valid, parsable JSON files. If the file contained only one retweet object, it has not been modified. If the file contained multiple retweets, the file now contains a list of retweet objects, separated by a comma, as per the JSON syntax."
   ]
  },
  {
   "attachments": {},
   "cell_type": "markdown",
   "metadata": {},
   "source": [
    "The paths to the folder containing all subfolders corresponding to each event of major interest (the Charlie Hebdo shooting, footballer Essien having Ebola, etc.). Tweets here are all written in English."
   ]
  },
  {
   "cell_type": "code",
   "execution_count": 196,
   "metadata": {},
   "outputs": [],
   "source": [
    "events_path = data_path + \"/threads/en\""
   ]
  },
  {
   "attachments": {},
   "cell_type": "markdown",
   "metadata": {},
   "source": [
    "Create 2 subfolders to store important files and graphs, respectively. If they already existed (from previous runnings of the project), delete the folders and their contents and create empty folders to store the current files and graphs, relevant to the current state of the project."
   ]
  },
  {
   "cell_type": "code",
   "execution_count": 197,
   "metadata": {},
   "outputs": [],
   "source": [
    "files_path = os.path.join(rootdir_path, 'files')\n",
    "if os.path.exists(files_path):\n",
    "   shutil.rmtree(files_path, ignore_errors=False, onerror=None)\n",
    "os.makedirs(files_path)\n",
    "\n",
    "graphs_path = os.path.join(rootdir_path, 'graphs')\n",
    "if os.path.exists(graphs_path):\n",
    "   shutil.rmtree(graphs_path, ignore_errors=False, onerror=None)\n",
    "os.makedirs(graphs_path)"
   ]
  },
  {
   "cell_type": "code",
   "execution_count": 198,
   "metadata": {},
   "outputs": [],
   "source": [
    "pheme_graphs_path = os.path.join(graphs_path, 'pheme')\n",
    "if os.path.exists(pheme_graphs_path):\n",
    "   shutil.rmtree(pheme_graphs_path, ignore_errors=False, onerror=None)\n",
    "os.makedirs(pheme_graphs_path)"
   ]
  },
  {
   "cell_type": "markdown",
   "metadata": {},
   "source": [
    "Here, I define a function that first reads the JSON file and stores it into a dictionary, then parses the date contained at the \"created_at\" key. The number returned is an integer. "
   ]
  },
  {
   "cell_type": "code",
   "execution_count": 199,
   "metadata": {},
   "outputs": [],
   "source": [
    "def tweet_hour(tweet_path):\n",
    "    with open(tweet_path) as f:\n",
    "        tweet = json.load(f)\n",
    "    date = parser.parse(tweet['created_at'])\n",
    "    \n",
    "    return date.hour"
   ]
  },
  {
   "attachments": {},
   "cell_type": "markdown",
   "metadata": {},
   "source": [
    "Function to return the source path, given the story path."
   ]
  },
  {
   "cell_type": "code",
   "execution_count": 200,
   "metadata": {},
   "outputs": [],
   "source": [
    "def source_tweet_path(story_path):\n",
    "    source_dir_path = story_path + \"/source-tweets\"\n",
    "    source_path = source_dir_path + \"/\" + os.listdir(source_dir_path)[0]\n",
    "    \n",
    "    return source_path"
   ]
  },
  {
   "attachments": {},
   "cell_type": "markdown",
   "metadata": {},
   "source": [
    "Function to return a list of all reactions' paths."
   ]
  },
  {
   "cell_type": "code",
   "execution_count": 201,
   "metadata": {},
   "outputs": [],
   "source": [
    "def reaction_tweets_paths(story_path):\n",
    "    reactions_paths_list = []\n",
    "    reactions_dir_path = story_path + \"/reactions\"\n",
    "    for reaction_name in os.listdir(reactions_dir_path):\n",
    "        reaction_path = reactions_dir_path + \"/\" + reaction_name\n",
    "        reactions_paths_list.append(reaction_path)\n",
    "        \n",
    "    return reactions_paths_list"
   ]
  },
  {
   "attachments": {},
   "cell_type": "markdown",
   "metadata": {},
   "source": [
    "Function to validate whether a given JSON file is valid or not. Unmodified retweets files (the ones from teh original dataset) are not valid. We only want ot modify them when they are invalid, otherwise they will become invalid again, as we will have duplicate characters (\"[[\" / \"]]\" / \",,\") ."
   ]
  },
  {
   "cell_type": "code",
   "execution_count": 202,
   "metadata": {},
   "outputs": [],
   "source": [
    "def validateJSON(JSON_path):\n",
    "    try:\n",
    "        with open(JSON_path, 'r') as file:\n",
    "            data = json.load(file)\n",
    "    except ValueError as err:\n",
    "        return False\n",
    "    return True"
   ]
  },
  {
   "attachments": {},
   "cell_type": "markdown",
   "metadata": {},
   "source": [
    "Function to modify/format invalid JSON files for further processing."
   ]
  },
  {
   "cell_type": "code",
   "execution_count": 203,
   "metadata": {},
   "outputs": [],
   "source": [
    "def format_retweets_json(retweets_path):\n",
    "    if not validateJSON(retweets_path):\n",
    "        with open(retweets_path, 'r') as invalid_json:\n",
    "            data = invalid_json.read()\n",
    "        data = \"[\\n\" + data.replace(\"}\\n{\", \"},\\n{\") + \"]\"\n",
    "        with open(retweets_path,'w') as valid_json:\n",
    "            valid_json.write(data)"
   ]
  },
  {
   "attachments": {},
   "cell_type": "markdown",
   "metadata": {},
   "source": [
    "Function to return a list of the hours when all retweets of a specific story have been posted."
   ]
  },
  {
   "cell_type": "code",
   "execution_count": 204,
   "metadata": {},
   "outputs": [],
   "source": [
    "def hours_list_retweets(story_path):\n",
    "    retweets_path = story_path + \"/retweets.json\"\n",
    "    hours = []\n",
    "    if os.path.exists(retweets_path):\n",
    "        format_retweets_json(retweets_path)\n",
    "        with open(retweets_path, 'r') as file:\n",
    "            retweets_list = json.load(file)\n",
    "        if type(retweets_list) == list:\n",
    "            hours = [ parser.parse(retweet['created_at']).hour for retweet in retweets_list ]\n",
    "        else:   # we have this case when the JSON file contains one object, but we need to pass a list forward, so we'll have a 1-length list\n",
    "            hours = [parser.parse(retweets_list['created_at']).hour]\n",
    "\n",
    "    return hours"
   ]
  },
  {
   "cell_type": "markdown",
   "metadata": {},
   "source": [
    "I define a function to store all occurences of dates (only the hours) in a list."
   ]
  },
  {
   "cell_type": "code",
   "execution_count": 205,
   "metadata": {},
   "outputs": [],
   "source": [
    "def hours_list_story(story_path):\n",
    "    # I create a list with all occurences of dates corresponding to the source tweet, reactions (replies) and retweets.\n",
    "    hours = []\n",
    "\n",
    "    # source hour\n",
    "    source_path = source_tweet_path(story_path)\n",
    "    hour = tweet_hour(source_path)\n",
    "    hours.append(hour)\n",
    "\n",
    "    # reactions hours\n",
    "    reactions_paths_list = reaction_tweets_paths(story_path)\n",
    "    for reaction_path in reactions_paths_list:\n",
    "        hour = tweet_hour(reaction_path)\n",
    "        hours.append(hour)\n",
    "    \n",
    "    # retweets hours\n",
    "    hours.extend(hours_list_retweets(story_path))\n",
    "    \n",
    "    return hours"
   ]
  },
  {
   "attachments": {},
   "cell_type": "markdown",
   "metadata": {},
   "source": [
    "Here, I define a function to return a pandas Series, representing the distribution of the hours of tweets (source tweets, reactions and retweets) posted regarding a specific event given as an input parameter. I chose to convert the list to a pandas Series due to the ease in creating a distribution and corresponding box plot."
   ]
  },
  {
   "cell_type": "code",
   "execution_count": 206,
   "metadata": {},
   "outputs": [],
   "source": [
    "def time_distribution_event(event_path):\n",
    "    hours = []\n",
    "    for story_id in os.listdir(event_path):\n",
    "        story_path = event_path + \"/\" + story_id\n",
    "        hours.extend(hours_list_story(story_path))\n",
    "    hours.sort()\n",
    "    hours_series = pd.Series(hours)\n",
    "    distribution = hours_series.value_counts()[hours_series.unique()]\n",
    "    \n",
    "    return distribution"
   ]
  },
  {
   "cell_type": "markdown",
   "metadata": {},
   "source": [
    "The following function is delegated to plot the distribution per hour of the tweets sent about a specific topic/event."
   ]
  },
  {
   "cell_type": "code",
   "execution_count": 207,
   "metadata": {},
   "outputs": [],
   "source": [
    "def plot_event_distribution(event_name, distribution):\n",
    "    axes = distribution.plot(kind='bar')\n",
    "    figure_path = \"{pheme_graphs_path}/{event}_distribution.png\".format(pheme_graphs_path = pheme_graphs_path, event = event_name)\n",
    "    axes.figure.savefig(figure_path)\n",
    "    plt.close()"
   ]
  },
  {
   "attachments": {},
   "cell_type": "markdown",
   "metadata": {},
   "source": [
    "Function to plot and save in the local graphs/ folder the distributions corresponding to all events."
   ]
  },
  {
   "cell_type": "code",
   "execution_count": 208,
   "metadata": {},
   "outputs": [],
   "source": [
    "def plot_all_event_distributions(events_path):\n",
    "    for event in os.listdir(events_path):\n",
    "        event_path = events_path + \"/\" + event\n",
    "        distribution = time_distribution_event(event_path)\n",
    "        plot_event_distribution(event, distribution)"
   ]
  },
  {
   "cell_type": "code",
   "execution_count": 209,
   "metadata": {},
   "outputs": [],
   "source": [
    "plot_all_event_distributions(events_path)"
   ]
  },
  {
   "attachments": {},
   "cell_type": "markdown",
   "metadata": {},
   "source": [
    "Computing the reaction times to tweets"
   ]
  },
  {
   "cell_type": "code",
   "execution_count": 210,
   "metadata": {},
   "outputs": [],
   "source": [
    "story_path = '/home/andreistoica12/research-internship/data/PhemeDataset/threads/en/ebola-essien/521346721226711040'"
   ]
  },
  {
   "cell_type": "code",
   "execution_count": 211,
   "metadata": {},
   "outputs": [],
   "source": [
    "def deltas_in_minutes(story_path):\n",
    "    deltas = []\n",
    "    # Step 1: get t0 datetime object from the source timestamp\n",
    "    source_path = source_tweet_path(story_path)\n",
    "    with open(source_path) as file:\n",
    "        source = json.load(file)\n",
    "    t0 = parser.parse(source['created_at'])\n",
    "\n",
    "    # Step 2: for all reactions, get the difference in minutes from the time the source was posted and the time each reaction was posted\n",
    "    reactions_paths_list = reaction_tweets_paths(story_path)\n",
    "    for reaction_path in reactions_paths_list:\n",
    "        with open(reaction_path) as file:\n",
    "            reaction = json.load(file)\n",
    "        deltas.append((parser.parse(reaction['created_at']) - t0).total_seconds() / 60)\n",
    "\n",
    "    # Step 3: for all retweets, get the same time difference in miuntes as above\n",
    "    retweets_path = story_path + \"/retweets.json\"\n",
    "    if os.path.exists(retweets_path):\n",
    "        format_retweets_json(retweets_path)\n",
    "        with open(retweets_path, 'r') as file:\n",
    "            retweets_list = json.load(file)\n",
    "        if type(retweets_list) == list:\n",
    "            deltas.extend([ (parser.parse(retweet['created_at']) - t0).total_seconds() / 60 for retweet in retweets_list ])\n",
    "        else:   # we have this case when the JSON file contains one object, but we need to pass a list forward, so we'll have a 1-length list\n",
    "            deltas.extend([ (parser.parse(retweets_list['created_at']) - t0).total_seconds() / 60 ])\n",
    "    \n",
    "    return deltas"
   ]
  },
  {
   "cell_type": "code",
   "execution_count": 212,
   "metadata": {},
   "outputs": [],
   "source": [
    "deltas = deltas_in_minutes(story_path)"
   ]
  },
  {
   "cell_type": "code",
   "execution_count": 213,
   "metadata": {},
   "outputs": [
    {
     "data": {
      "text/plain": [
       "[21.716666666666665,\n",
       " 84.63333333333334,\n",
       " 40.416666666666664,\n",
       " 13.55,\n",
       " 82.13333333333334,\n",
       " 71.25,\n",
       " 23.666666666666668,\n",
       " 98.61666666666666,\n",
       " 99.41666666666667,\n",
       " 17.166666666666668,\n",
       " 22.966666666666665,\n",
       " 26.666666666666668,\n",
       " 82.61666666666666,\n",
       " 25.033333333333335,\n",
       " 23.9,\n",
       " 88.28333333333333,\n",
       " 10.783333333333333,\n",
       " 84.16666666666667,\n",
       " 19.983333333333334,\n",
       " 77.28333333333333,\n",
       " 78.16666666666667,\n",
       " 14.883333333333333,\n",
       " 77.08333333333333,\n",
       " 10.5,\n",
       " 37.86666666666667,\n",
       " 36.55,\n",
       " 439.56666666666666,\n",
       " 789.75,\n",
       " 850.3166666666667,\n",
       " 9.566666666666666,\n",
       " 9.6,\n",
       " 9.8,\n",
       " 9.8,\n",
       " 9.833333333333334,\n",
       " 9.883333333333333,\n",
       " 9.9,\n",
       " 9.933333333333334,\n",
       " 9.966666666666667,\n",
       " 10.0,\n",
       " 10.0,\n",
       " 10.1,\n",
       " 10.15,\n",
       " 10.216666666666667,\n",
       " 10.216666666666667,\n",
       " 10.316666666666666,\n",
       " 10.316666666666666,\n",
       " 10.333333333333334,\n",
       " 10.433333333333334,\n",
       " 10.45,\n",
       " 10.55,\n",
       " 10.65,\n",
       " 10.666666666666666,\n",
       " 10.716666666666667,\n",
       " 10.783333333333333,\n",
       " 10.8,\n",
       " 10.85,\n",
       " 10.866666666666667,\n",
       " 10.883333333333333,\n",
       " 10.933333333333334,\n",
       " 10.95,\n",
       " 10.966666666666667,\n",
       " 11.05,\n",
       " 11.066666666666666,\n",
       " 11.15,\n",
       " 11.216666666666667,\n",
       " 11.283333333333333,\n",
       " 11.283333333333333,\n",
       " 11.716666666666667,\n",
       " 12.216666666666667,\n",
       " 14.75,\n",
       " 17.533333333333335,\n",
       " 18.683333333333334,\n",
       " 19.666666666666668,\n",
       " 20.166666666666668,\n",
       " 20.333333333333332,\n",
       " 20.516666666666666,\n",
       " 20.533333333333335,\n",
       " 21.5,\n",
       " 21.566666666666666,\n",
       " 21.783333333333335,\n",
       " 22.383333333333333,\n",
       " 22.9,\n",
       " 22.933333333333334,\n",
       " 23.166666666666668,\n",
       " 24.3,\n",
       " 24.35,\n",
       " 24.5,\n",
       " 24.533333333333335,\n",
       " 24.766666666666666,\n",
       " 24.766666666666666,\n",
       " 24.883333333333333,\n",
       " 25.033333333333335,\n",
       " 25.05,\n",
       " 25.166666666666668,\n",
       " 25.3,\n",
       " 25.316666666666666,\n",
       " 25.416666666666668,\n",
       " 25.466666666666665,\n",
       " 25.483333333333334,\n",
       " 25.566666666666666,\n",
       " 25.733333333333334,\n",
       " 25.816666666666666,\n",
       " 25.95,\n",
       " 26.066666666666666,\n",
       " 26.216666666666665,\n",
       " 26.3,\n",
       " 26.55,\n",
       " 26.566666666666666,\n",
       " 26.65,\n",
       " 26.766666666666666,\n",
       " 26.8,\n",
       " 27.133333333333333,\n",
       " 27.85,\n",
       " 27.933333333333334,\n",
       " 28.05,\n",
       " 28.933333333333334,\n",
       " 29.066666666666666,\n",
       " 29.1,\n",
       " 29.333333333333332,\n",
       " 29.583333333333332,\n",
       " 29.766666666666666,\n",
       " 30.016666666666666,\n",
       " 30.116666666666667,\n",
       " 30.166666666666668,\n",
       " 30.25,\n",
       " 30.366666666666667,\n",
       " 30.8,\n",
       " 31.016666666666666,\n",
       " 31.016666666666666,\n",
       " 31.533333333333335,\n",
       " 32.18333333333333,\n",
       " 32.43333333333333,\n",
       " 33.18333333333333,\n",
       " 33.21666666666667,\n",
       " 33.266666666666666,\n",
       " 34.833333333333336,\n",
       " 35.53333333333333,\n",
       " 37.86666666666667,\n",
       " 39.516666666666666,\n",
       " 40.1,\n",
       " 40.65,\n",
       " 42.38333333333333,\n",
       " 45.05,\n",
       " 45.35,\n",
       " 45.35,\n",
       " 45.88333333333333,\n",
       " 47.38333333333333,\n",
       " 47.43333333333333,\n",
       " 47.71666666666667,\n",
       " 48.03333333333333,\n",
       " 49.583333333333336,\n",
       " 51.55,\n",
       " 52.516666666666666,\n",
       " 53.6,\n",
       " 57.13333333333333,\n",
       " 58.016666666666666,\n",
       " 58.516666666666666,\n",
       " 58.583333333333336,\n",
       " 59.416666666666664,\n",
       " 71.35,\n",
       " 73.31666666666666,\n",
       " 73.43333333333334,\n",
       " 74.05,\n",
       " 74.26666666666667,\n",
       " 74.88333333333334,\n",
       " 75.2,\n",
       " 75.23333333333333,\n",
       " 76.38333333333334,\n",
       " 76.56666666666666,\n",
       " 77.25,\n",
       " 80.61666666666666,\n",
       " 81.51666666666667,\n",
       " 83.01666666666667,\n",
       " 83.55,\n",
       " 84.08333333333333,\n",
       " 86.11666666666666,\n",
       " 86.3,\n",
       " 87.15,\n",
       " 88.43333333333334,\n",
       " 91.53333333333333,\n",
       " 94.06666666666666,\n",
       " 95.38333333333334,\n",
       " 102.3,\n",
       " 102.63333333333334,\n",
       " 103.41666666666667,\n",
       " 107.31666666666666,\n",
       " 115.01666666666667,\n",
       " 126.75,\n",
       " 130.3,\n",
       " 131.03333333333333,\n",
       " 131.3,\n",
       " 134.68333333333334,\n",
       " 139.66666666666666,\n",
       " 145.71666666666667,\n",
       " 155.96666666666667,\n",
       " 165.08333333333334,\n",
       " 167.56666666666666,\n",
       " 183.7,\n",
       " 188.65,\n",
       " 195.25,\n",
       " 200.61666666666667,\n",
       " 242.58333333333334,\n",
       " 251.4,\n",
       " 316.48333333333335,\n",
       " 318.55,\n",
       " 345.6333333333333]"
      ]
     },
     "execution_count": 213,
     "metadata": {},
     "output_type": "execute_result"
    }
   ],
   "source": [
    "deltas"
   ]
  },
  {
   "cell_type": "code",
   "execution_count": 219,
   "metadata": {},
   "outputs": [],
   "source": [
    "def elbow_method(deltas):\n",
    "    wcss = []\n",
    "    deltas = np.array(deltas)\n",
    "    deltas = deltas.reshape(-1, 1)\n",
    "    for k in range(1, 11):  # loop over maximum 10 clusters, as this is a range where you usually find the optimum number of clusters\n",
    "        kmeans = KMeans(n_clusters=k, n_init=\"auto\", random_state=0)\n",
    "        kmeans.fit(deltas)\n",
    "        wcss.append(kmeans.inertia_)\n",
    "\n",
    "    # Plot the within-cluster sum of squares against the number of clusters\n",
    "    plt.plot(range(1, 11), wcss)\n",
    "    plt.title('Elbow Method')\n",
    "    plt.xlabel('Number of clusters')\n",
    "    plt.ylabel('WCSS')\n",
    "    plt.show() "
   ]
  },
  {
   "cell_type": "code",
   "execution_count": 220,
   "metadata": {},
   "outputs": [
    {
     "data": {
      "image/png": "[encoded data removed]",
      "text/plain": [
       "<Figure size 640x480 with 1 Axes>"
      ]
     },
     "metadata": {},
     "output_type": "display_data"
    }
   ],
   "source": [
    "elbow_method(deltas)"
   ]
  },
  {
   "cell_type": "code",
   "execution_count": 221,
   "metadata": {},
   "outputs": [],
   "source": [
    "# Define the number of clusters you want to create - look for the \"elbow\" point in the plot above,\n",
    "#  where the rate of decrease in WCSS begins to level off\n",
    "k = 4"
   ]
  },
  {
   "cell_type": "code",
   "execution_count": 222,
   "metadata": {},
   "outputs": [],
   "source": [
    "def k_means_clustering(k, deltas):\n",
    "    deltas = np.array(deltas)\n",
    "    deltas = deltas.reshape(-1, 1)\n",
    "\n",
    "    # Create a KMeans object with the specified number of clusters\n",
    "    kmeans = KMeans(n_clusters=k, n_init=\"auto\", random_state=0)\n",
    "    kmeans.fit(deltas)\n",
    "\n",
    "    # Get the labels assigned to each data point\n",
    "    labels = kmeans.labels_\n",
    "\n",
    "    # Get the centroids of each cluster\n",
    "    centroids = kmeans.cluster_centers_\n",
    "\n",
    "    # Print an overview of the resulting clusters\n",
    "    for i in range(k):\n",
    "        cluster_data = deltas[labels == i]\n",
    "        print(f\"Cluster {i+1} has {len(cluster_data)} data points and a centroid of {centroids[i][0]}\")\n",
    "\n",
    "    print(\"\\nDeltas list - cluster label:\\n\")\n",
    "    print(labels)\n",
    "\n",
    "    # Create a dictionary to store the clustered data\n",
    "    clusters_dict = {}\n",
    "    for i, label in enumerate(kmeans.labels_):\n",
    "        if label not in clusters_dict:\n",
    "            clusters_dict[label] = [deltas[i][0]]\n",
    "        else:\n",
    "            clusters_dict[label].append(deltas[i][0])\n",
    "    \n",
    "    return clusters_dict"
   ]
  },
  {
   "cell_type": "code",
   "execution_count": 223,
   "metadata": {},
   "outputs": [
    {
     "name": "stdout",
     "output_type": "stream",
     "text": [
      "Cluster 1 has 53 data points and a centroid of 104.04371069182389\n",
      "Cluster 2 has 2 data points and a centroid of 820.0333333333334\n",
      "Cluster 3 has 145 data points and a centroid of 25.055977011494257\n",
      "Cluster 4 has 6 data points and a centroid of 319.0361111111111\n",
      "\n",
      "Deltas list - cluster label:\n",
      "\n",
      "[2 0 2 2 0 0 2 0 0 2 2 2 0 2 2 0 2 0 2 0 0 2 0 2 2 2 3 1 1 2 2 2 2 2 2 2 2\n",
      " 2 2 2 2 2 2 2 2 2 2 2 2 2 2 2 2 2 2 2 2 2 2 2 2 2 2 2 2 2 2 2 2 2 2 2 2 2\n",
      " 2 2 2 2 2 2 2 2 2 2 2 2 2 2 2 2 2 2 2 2 2 2 2 2 2 2 2 2 2 2 2 2 2 2 2 2 2\n",
      " 2 2 2 2 2 2 2 2 2 2 2 2 2 2 2 2 2 2 2 2 2 2 2 2 2 2 2 2 2 2 2 2 2 2 2 2 2\n",
      " 2 2 2 2 2 2 2 2 2 2 2 0 0 0 0 0 0 0 0 0 0 0 0 0 0 0 0 0 0 0 0 0 0 0 0 0 0\n",
      " 0 0 0 0 0 0 0 0 0 0 0 0 0 0 0 0 3 3 3 3 3]\n"
     ]
    }
   ],
   "source": [
    "clusters_dict = k_means_clustering(k, deltas)"
   ]
  },
  {
   "cell_type": "code",
   "execution_count": 229,
   "metadata": {},
   "outputs": [],
   "source": [
    "def plot_story_reaction_times(story_name, clusters_dict):\n",
    "    clusters_plot_dict = {}\n",
    "    for key, value in clusters_dict.items():\n",
    "        clusters_plot_dict[f\"{math.floor(min(value))} - {math.ceil(max(value))}\"] = len(value)\n",
    "    \n",
    "    intervals = list(clusters_plot_dict.keys())\n",
    "    values = list(clusters_plot_dict.values())\n",
    "\n",
    "    plt.bar(range(len(clusters_plot_dict)), values, tick_label=intervals)\n",
    "    plt.title('Distribution of reaction times in minutes')\n",
    "    plt.xlabel('Reaction times (between x and y minutes)')\n",
    "    plt.ylabel('Number of reactions')\n",
    "    plt.show()"
   ]
  },
  {
   "cell_type": "code",
   "execution_count": 230,
   "metadata": {},
   "outputs": [
    {
     "data": {
      "image/png": "[encoded data removed]",
      "text/plain": [
       "<Figure size 640x480 with 1 Axes>"
      ]
     },
     "metadata": {},
     "output_type": "display_data"
    }
   ],
   "source": [
    "plot_story_reaction_times('ebola_first_story', clusters_dict)"
   ]
  },
  {
   "cell_type": "code",
   "execution_count": null,
   "metadata": {},
   "outputs": [],
   "source": []
  }
 ],
 "metadata": {
  "kernelspec": {
   "display_name": "venv",
   "language": "python",
   "name": "python3"
  },
  "language_info": {
   "codemirror_mode": {
    "name": "ipython",
    "version": 3
   },
   "file_extension": ".py",
   "mimetype": "text/x-python",
   "name": "python",
   "nbconvert_exporter": "python",
   "pygments_lexer": "ipython3",
   "version": "3.10.6"
  },
  "orig_nbformat": 4,
  "vscode": {
   "interpreter": {
    "hash": "243101c165aceacaf115b49fc146265224cf91574f24df3021157e0d2dabdb2b"
   }
  }
 },
 "nbformat": 4,
 "nbformat_minor": 2
}
